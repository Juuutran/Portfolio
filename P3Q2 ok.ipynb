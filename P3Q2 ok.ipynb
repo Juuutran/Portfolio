{
 "cells": [
  {
   "cell_type": "code",
   "execution_count": 1,
   "id": "7b0ea9f9",
   "metadata": {},
   "outputs": [],
   "source": [
    "#j'importe les librairies qui vont me servir plus tard\n",
    "\n",
    "import numpy as np\n",
    "import pandas as pd\n",
    "\n",
    "#Je definis le nombre de lignes max affichées sur aucune limite\n",
    "\n",
    "pd.set_option(\"max_rows\", None) "
   ]
  },
  {
   "cell_type": "code",
   "execution_count": 2,
   "id": "c610c935",
   "metadata": {},
   "outputs": [
    {
     "name": "stdout",
     "output_type": "stream",
     "text": [
      "Fichiers chargés avec succes!\n"
     ]
    }
   ],
   "source": [
    "#Je charge tous les fichiers csv\n",
    "\n",
    "population = pd.read_csv(\"C:/Users/33643/Desktop/P3/FAO_2013_fr/fr_population.csv\")\n",
    "animaux = pd.read_csv(\"C:/Users/33643/Desktop/P3/FAO_2013_fr/fr_animaux.csv\")\n",
    "céréales = pd.read_csv(\"C:/Users/33643/Desktop/P3/FAO_2013_fr/fr_céréales.csv\")\n",
    "sousalimentation = pd.read_csv(\"C:/Users/33643/Desktop/P3/FAO_2013_fr/fr_sousalimentation.csv\")\n",
    "vegetaux = pd.read_csv(\"C:/Users/33643/Desktop/P3/FAO_2013_fr/fr_vegetaux.csv\")\n",
    "\n",
    "#J'affiche une phrase si l'import est reussi\n",
    "\n",
    "print(\"Fichiers chargés avec succes!\") "
   ]
  },
  {
   "cell_type": "code",
   "execution_count": 3,
   "id": "c83e3e1b",
   "metadata": {},
   "outputs": [
    {
     "data": {
      "text/html": [
       "<div>\n",
       "<style scoped>\n",
       "    .dataframe tbody tr th:only-of-type {\n",
       "        vertical-align: middle;\n",
       "    }\n",
       "\n",
       "    .dataframe tbody tr th {\n",
       "        vertical-align: top;\n",
       "    }\n",
       "\n",
       "    .dataframe thead th {\n",
       "        text-align: right;\n",
       "    }\n",
       "</style>\n",
       "<table border=\"1\" class=\"dataframe\">\n",
       "  <thead>\n",
       "    <tr style=\"text-align: right;\">\n",
       "      <th></th>\n",
       "      <th>Code Domaine</th>\n",
       "      <th>Domaine</th>\n",
       "      <th>Code zone</th>\n",
       "      <th>Zone</th>\n",
       "      <th>Code Élément</th>\n",
       "      <th>Élément</th>\n",
       "      <th>Code Produit</th>\n",
       "      <th>Produit</th>\n",
       "      <th>Code année</th>\n",
       "      <th>Année</th>\n",
       "      <th>Unité</th>\n",
       "      <th>Valeur</th>\n",
       "      <th>Symbole</th>\n",
       "      <th>Description du Symbole</th>\n",
       "    </tr>\n",
       "  </thead>\n",
       "  <tbody>\n",
       "    <tr>\n",
       "      <th>0</th>\n",
       "      <td>FBSH</td>\n",
       "      <td>Bilans Alimentaire (Ancienne méthodologie et p...</td>\n",
       "      <td>2</td>\n",
       "      <td>Afghanistan</td>\n",
       "      <td>5511</td>\n",
       "      <td>Production</td>\n",
       "      <td>2511</td>\n",
       "      <td>Blé</td>\n",
       "      <td>2013</td>\n",
       "      <td>2013</td>\n",
       "      <td>Milliers de tonnes</td>\n",
       "      <td>5169.0</td>\n",
       "      <td>S</td>\n",
       "      <td>Données standardisées</td>\n",
       "    </tr>\n",
       "    <tr>\n",
       "      <th>1</th>\n",
       "      <td>FBSH</td>\n",
       "      <td>Bilans Alimentaire (Ancienne méthodologie et p...</td>\n",
       "      <td>2</td>\n",
       "      <td>Afghanistan</td>\n",
       "      <td>5611</td>\n",
       "      <td>Importations - Quantité</td>\n",
       "      <td>2511</td>\n",
       "      <td>Blé</td>\n",
       "      <td>2013</td>\n",
       "      <td>2013</td>\n",
       "      <td>Milliers de tonnes</td>\n",
       "      <td>1173.0</td>\n",
       "      <td>S</td>\n",
       "      <td>Données standardisées</td>\n",
       "    </tr>\n",
       "    <tr>\n",
       "      <th>2</th>\n",
       "      <td>FBSH</td>\n",
       "      <td>Bilans Alimentaire (Ancienne méthodologie et p...</td>\n",
       "      <td>2</td>\n",
       "      <td>Afghanistan</td>\n",
       "      <td>5072</td>\n",
       "      <td>Variation de stock</td>\n",
       "      <td>2511</td>\n",
       "      <td>Blé</td>\n",
       "      <td>2013</td>\n",
       "      <td>2013</td>\n",
       "      <td>Milliers de tonnes</td>\n",
       "      <td>-350.0</td>\n",
       "      <td>S</td>\n",
       "      <td>Données standardisées</td>\n",
       "    </tr>\n",
       "    <tr>\n",
       "      <th>3</th>\n",
       "      <td>FBSH</td>\n",
       "      <td>Bilans Alimentaire (Ancienne méthodologie et p...</td>\n",
       "      <td>2</td>\n",
       "      <td>Afghanistan</td>\n",
       "      <td>5301</td>\n",
       "      <td>Disponibilité intérieure</td>\n",
       "      <td>2511</td>\n",
       "      <td>Blé</td>\n",
       "      <td>2013</td>\n",
       "      <td>2013</td>\n",
       "      <td>Milliers de tonnes</td>\n",
       "      <td>5992.0</td>\n",
       "      <td>S</td>\n",
       "      <td>Données standardisées</td>\n",
       "    </tr>\n",
       "    <tr>\n",
       "      <th>4</th>\n",
       "      <td>FBSH</td>\n",
       "      <td>Bilans Alimentaire (Ancienne méthodologie et p...</td>\n",
       "      <td>2</td>\n",
       "      <td>Afghanistan</td>\n",
       "      <td>5527</td>\n",
       "      <td>Semences</td>\n",
       "      <td>2511</td>\n",
       "      <td>Blé</td>\n",
       "      <td>2013</td>\n",
       "      <td>2013</td>\n",
       "      <td>Milliers de tonnes</td>\n",
       "      <td>322.0</td>\n",
       "      <td>S</td>\n",
       "      <td>Données standardisées</td>\n",
       "    </tr>\n",
       "  </tbody>\n",
       "</table>\n",
       "</div>"
      ],
      "text/plain": [
       "  Code Domaine                                            Domaine  Code zone  \\\n",
       "0         FBSH  Bilans Alimentaire (Ancienne méthodologie et p...          2   \n",
       "1         FBSH  Bilans Alimentaire (Ancienne méthodologie et p...          2   \n",
       "2         FBSH  Bilans Alimentaire (Ancienne méthodologie et p...          2   \n",
       "3         FBSH  Bilans Alimentaire (Ancienne méthodologie et p...          2   \n",
       "4         FBSH  Bilans Alimentaire (Ancienne méthodologie et p...          2   \n",
       "\n",
       "          Zone  Code Élément                   Élément  Code Produit Produit  \\\n",
       "0  Afghanistan          5511                Production          2511     Blé   \n",
       "1  Afghanistan          5611   Importations - Quantité          2511     Blé   \n",
       "2  Afghanistan          5072        Variation de stock          2511     Blé   \n",
       "3  Afghanistan          5301  Disponibilité intérieure          2511     Blé   \n",
       "4  Afghanistan          5527                  Semences          2511     Blé   \n",
       "\n",
       "   Code année  Année               Unité  Valeur Symbole  \\\n",
       "0        2013   2013  Milliers de tonnes  5169.0       S   \n",
       "1        2013   2013  Milliers de tonnes  1173.0       S   \n",
       "2        2013   2013  Milliers de tonnes  -350.0       S   \n",
       "3        2013   2013  Milliers de tonnes  5992.0       S   \n",
       "4        2013   2013  Milliers de tonnes   322.0       S   \n",
       "\n",
       "  Description du Symbole  \n",
       "0  Données standardisées  \n",
       "1  Données standardisées  \n",
       "2  Données standardisées  \n",
       "3  Données standardisées  \n",
       "4  Données standardisées  "
      ]
     },
     "execution_count": 3,
     "metadata": {},
     "output_type": "execute_result"
    }
   ],
   "source": [
    "#Je jette un coup d'oeil aux 5 premieres lignes du fichier\n",
    "\n",
    "vegetaux.head() "
   ]
  },
  {
   "cell_type": "code",
   "execution_count": 4,
   "id": "4587e9ee",
   "metadata": {},
   "outputs": [
    {
     "data": {
      "text/plain": [
       "15"
      ]
     },
     "execution_count": 4,
     "metadata": {},
     "output_type": "execute_result"
    }
   ],
   "source": [
    "#Je calcule le nombre d'éléments uniques dans la colonne Element de la table animaux\n",
    "len((vegetaux)['Élément'].unique()) "
   ]
  },
  {
   "cell_type": "code",
   "execution_count": 5,
   "id": "1e46c8d9",
   "metadata": {},
   "outputs": [
    {
     "data": {
      "text/plain": [
       "array(['Production', 'Importations - Quantité', 'Variation de stock',\n",
       "       'Disponibilité intérieure', 'Semences', 'Pertes', 'Nourriture',\n",
       "       'Disponibilité alimentaire en quantité (kg/personne/an)',\n",
       "       'Disponibilité alimentaire (Kcal/personne/jour)',\n",
       "       'Disponibilité de protéines en quantité (g/personne/jour)',\n",
       "       'Disponibilité de matière grasse en quantité (g/personne/jour)',\n",
       "       'Aliments pour animaux', 'Exportations - Quantité', 'Traitement',\n",
       "       'Autres utilisations (non alimentaire)'], dtype=object)"
      ]
     },
     "execution_count": 5,
     "metadata": {},
     "output_type": "execute_result"
    }
   ],
   "source": [
    "#Je liste le nombre d'éléments uniques dans la colonne Element de la table vegetaux\n",
    "(vegetaux)['Élément'].unique() "
   ]
  },
  {
   "cell_type": "code",
   "execution_count": 6,
   "id": "59230982",
   "metadata": {},
   "outputs": [
    {
     "data": {
      "text/plain": [
       "(104871, 14)"
      ]
     },
     "execution_count": 6,
     "metadata": {},
     "output_type": "execute_result"
    }
   ],
   "source": [
    "#Je vérifie le nombre de colonnes et lignes\n",
    "vegetaux.shape "
   ]
  },
  {
   "cell_type": "code",
   "execution_count": 7,
   "id": "31b77ca1",
   "metadata": {},
   "outputs": [
    {
     "data": {
      "text/html": [
       "<div>\n",
       "<style scoped>\n",
       "    .dataframe tbody tr th:only-of-type {\n",
       "        vertical-align: middle;\n",
       "    }\n",
       "\n",
       "    .dataframe tbody tr th {\n",
       "        vertical-align: top;\n",
       "    }\n",
       "\n",
       "    .dataframe thead th {\n",
       "        text-align: right;\n",
       "    }\n",
       "</style>\n",
       "<table border=\"1\" class=\"dataframe\">\n",
       "  <thead>\n",
       "    <tr style=\"text-align: right;\">\n",
       "      <th></th>\n",
       "      <th>Élément</th>\n",
       "      <th>Valeur</th>\n",
       "    </tr>\n",
       "  </thead>\n",
       "  <tbody>\n",
       "    <tr>\n",
       "      <th>37487</th>\n",
       "      <td>Production</td>\n",
       "      <td>38614.0</td>\n",
       "    </tr>\n",
       "    <tr>\n",
       "      <th>37488</th>\n",
       "      <td>Importations - Quantité</td>\n",
       "      <td>2055.0</td>\n",
       "    </tr>\n",
       "    <tr>\n",
       "      <th>37489</th>\n",
       "      <td>Variation de stock</td>\n",
       "      <td>1131.0</td>\n",
       "    </tr>\n",
       "    <tr>\n",
       "      <th>37490</th>\n",
       "      <td>Exportations - Quantité</td>\n",
       "      <td>21502.0</td>\n",
       "    </tr>\n",
       "    <tr>\n",
       "      <th>37491</th>\n",
       "      <td>Disponibilité intérieure</td>\n",
       "      <td>20298.0</td>\n",
       "    </tr>\n",
       "  </tbody>\n",
       "</table>\n",
       "</div>"
      ],
      "text/plain": [
       "                        Élément   Valeur\n",
       "37487                Production  38614.0\n",
       "37488   Importations - Quantité   2055.0\n",
       "37489        Variation de stock   1131.0\n",
       "37490   Exportations - Quantité  21502.0\n",
       "37491  Disponibilité intérieure  20298.0"
      ]
     },
     "execution_count": 7,
     "metadata": {},
     "output_type": "execute_result"
    }
   ],
   "source": [
    "#Je localise les lignes et colonnes qui m'interessent\n",
    "vegetaux_q2 = vegetaux.loc[(vegetaux['Zone'] == 'France') & (vegetaux['Produit'] == 'Blé'),[\"Élément\",\"Valeur\"]]\n",
    "vegetaux_q2.head()"
   ]
  },
  {
   "cell_type": "code",
   "execution_count": 8,
   "id": "02393c2d",
   "metadata": {},
   "outputs": [
    {
     "name": "stdout",
     "output_type": "stream",
     "text": [
      "La disponibilité intérieure pour le blé en France en 2013 est de\n",
      "20298.0 milliers de tonnes\n",
      "20298.0 milliers de tonnes\n",
      "20298.0 milliers de tonnes\n"
     ]
    }
   ],
   "source": [
    "#Je calcule ma disponibilité intérieur de 3 facons differentes grace à l'équation suivante:\n",
    "\n",
    "#Disponibilité intérieure = Production + importation + variation de stock - exportation = nourriture + pertes + aliments pour animaux + traitement + semences + autres utilisations\n",
    "\n",
    "print(\"La disponibilité intérieure pour le blé en France en 2013 est de\")\n",
    "\n",
    "print(vegetaux_q2.iloc[4,1],\"milliers de tonnes\")\n",
    "print((vegetaux_q2.iloc[1,1]) + (vegetaux_q2.iloc[0,1]) - (vegetaux_q2.iloc[3,1]) + (vegetaux_q2.iloc[2,1]),\"milliers de tonnes\")\n",
    "print((vegetaux_q2.iloc[10,1]) + (vegetaux_q2.iloc[7,1]) + (vegetaux_q2.iloc[5,1]) + (vegetaux_q2.iloc[8,1]) + (vegetaux_q2.iloc[6,1]) + (vegetaux_q2.iloc[9,1]),\"milliers de tonnes\")"
   ]
  }
 ],
 "metadata": {
  "kernelspec": {
   "display_name": "Python 3",
   "language": "python",
   "name": "python3"
  },
  "language_info": {
   "codemirror_mode": {
    "name": "ipython",
    "version": 3
   },
   "file_extension": ".py",
   "mimetype": "text/x-python",
   "name": "python",
   "nbconvert_exporter": "python",
   "pygments_lexer": "ipython3",
   "version": "3.8.8"
  }
 },
 "nbformat": 4,
 "nbformat_minor": 5
}
